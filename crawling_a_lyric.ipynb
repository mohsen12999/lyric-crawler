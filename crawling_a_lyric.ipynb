{
 "cells": [
  {
   "cell_type": "code",
   "execution_count": 1,
   "metadata": {},
   "outputs": [],
   "source": [
    "import requests\n",
    "from bs4 import BeautifulSoup"
   ]
  },
  {
   "cell_type": "code",
   "execution_count": 11,
   "metadata": {},
   "outputs": [],
   "source": [
    "# print(soup.prettify())\n",
    "def get_lyric_from_website(lyric_url):\n",
    "    r = requests.get(lyric_url)\n",
    "    soup = BeautifulSoup(r.content, 'lxml')\n",
    "\n",
    "    lyric_div = soup.find('div',class_=\"lBody\")\n",
    "\n",
    "    lyric_info = lyric_url.split(\"/\")[-1]\n",
    "    dash_index = lyric_info.find(\"-\")\n",
    "    lyric_id = lyric_info[:dash_index]\n",
    "    lyric_name = lyric_info[dash_index+1:]    \n",
    "\n",
    "    return (lyric_id,lyric_name, str(lyric_div))"
   ]
  },
  {
   "cell_type": "code",
   "execution_count": 12,
   "metadata": {},
   "outputs": [
    {
     "name": "stdout",
     "output_type": "stream",
     "text": [
      "('4043200', 'beat-it', '<div class=\"lBody\">[Verse 1: Garrett Ecstasy &amp; Dahvie Vanity]<br/>They told him, \"Don\\'t you ever come around here<br/>Don\\'t wanna see your face, you better disappear\"<br/>The fire\\'s in their eyes and their words are really clear<br/>So beat it, just beat it, ah ah<br/>You better run, you better do what you can<br/>Don\\'t wanna see no blood, don\\'t be a macho man<br/>You wanna be tough, better do what you can<br/>So beat it, but you wanna be bad<br/><br/>[Chorus: Garrett Ecstasy]<br/>Just beat it, beat it, beat it, beat it<br/>No one wants to be defeated<br/>Showin\\' how funky and strong is your fight<br/>It doesn\\'t matter who\\'s wrong or right<br/>Just beat it (beat it, beat it)<br/>Just beat it (beat it, beat it)<br/>Just beat it (beat it, beat it)<br/>Just beat it (beat it, beat it)<br/><br/>[Verse 2: Dahvie Vanity &amp; Garrett Ecstasy]<br/>They\\'re out to get you, better leave while you can<br/>Don\\'t wanna be a boy, you wanna be a man<br/>You wanna stay alive, better do what you can<br/>So beat it, just beat it<br/>You have to show them that you\\'re really not scared<br/>You\\'re playin\\' with your life, this ain\\'t no truth or dare<br/>They\\'ll kick you, then they\\'ll beat you then they\\'ll tell you it\\'s fair<br/>So beat it, but you wanna be bad<br/>[Chorus: Garrett Ecstasy]<br/>Just beat it, beat it, beat it, beat it<br/>No one wants to be defeated<br/>Showin\\' how funky and strong is your fight<br/>It doesn\\'t matter who\\'s wrong or right<br/>Just beat it (Beat it)<br/>Beat it (Beat it)<br/>Just beat it (Beat it)<br/><br/>[Bridge: Dahvie Vanity]<br/>I\\'m a killer, a chiller<br/>A bone-a-field thriller<br/>Open you up, like a bottle of miller<br/>Drink but don\\'t hate<br/>Kiss and just taste (Sweeth)<br/>Gotta burn it like heat<br/>When I\\'m kickin\\' up this beat<br/>We will dance in your defeat<br/>We don\\'t want no effin beef<br/>We just came here for some peace<br/>So let it just be<br/>Dancing to the street<br/>Living up thic mic<br/>I will love it up like<br/><br/>[Chorus: Garrett Ecstasy]<br/>Just beat it, beat it, beat it, beat it<br/>No one wants to be defeated<br/>Showin\\' how funky and strong is your fight<br/>It doesn\\'t matter who\\'s wrong or right<br/>Just beat it, beat it, beat it, beat it<br/>No one wants to be defeated<br/>Showin\\' how funky and strong is your fight<br/>It doesn\\'t matter who\\'s wrong or right<br/>Just beat it, beat it, beat it, beat it<br/>No one wants to be defeated<br/>Showin\\' how funky and strong is your fight<br/>It doesn\\'t matter who\\'s wrong or right<br/>Just beat it, beat it, beat it, beat it<br/>No one wants to be defeated<br/>Showin\\' how funky and strong is your fight<br/>It doesn\\'t matter who\\'s wrong or right<br/>Just beat it</div>')\n"
     ]
    }
   ],
   "source": [
    "sample_lyric_url = \"http://lyrics.lol/artist/835-michael-jackson/lyrics/4043200-beat-it\"\n",
    "\n",
    "print(get_lyric_from_website(sample_lyric_url))"
   ]
  }
 ],
 "metadata": {
  "kernelspec": {
   "display_name": "Python 3",
   "language": "python",
   "name": "python3"
  },
  "language_info": {
   "codemirror_mode": {
    "name": "ipython",
    "version": 3
   },
   "file_extension": ".py",
   "mimetype": "text/x-python",
   "name": "python",
   "nbconvert_exporter": "python",
   "pygments_lexer": "ipython3",
   "version": "3.10.11"
  }
 },
 "nbformat": 4,
 "nbformat_minor": 2
}
